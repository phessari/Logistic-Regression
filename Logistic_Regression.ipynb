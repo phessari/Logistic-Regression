{
 "cells": [
  {
   "cell_type": "markdown",
   "metadata": {},
   "source": [
    "# LOGISTIC REGRESSION"
   ]
  },
  {
   "cell_type": "markdown",
   "metadata": {},
   "source": [
    "Logistic regression is a supervised machine learning algorithm which is used for classification. This method predicts the probibilty that an observation belongs to a certain class using Sigmoid function. It is used for binary classification. "
   ]
  },
  {
   "cell_type": "code",
   "execution_count": 1,
   "metadata": {},
   "outputs": [
    {
     "name": "stdout",
     "output_type": "stream",
     "text": [
      "The new observation class is [1] with probibility 0.8226157648578827\n"
     ]
    }
   ],
   "source": [
    "# Logistic Regression\n",
    "from sklearn.linear_model import LogisticRegression\n",
    "from sklearn import datasets\n",
    "from sklearn.preprocessing import StandardScaler\n",
    "import numpy as np \n",
    "\n",
    "iris = datasets.load_iris()\n",
    "X = iris.data[:100, :]\n",
    "y = iris.target[:100]\n",
    "\n",
    "scaler = StandardScaler()\n",
    "X_std = scaler.fit_transform(X)\n",
    "\n",
    "lr = LogisticRegression(solver='lbfgs', random_state=0)\n",
    "\n",
    "model = lr.fit(X_std, y)\n",
    "\n",
    "observation = [[0.5, 0.5, 0.5, 0.5]]\n",
    "\n",
    "print(\"The new observation class is\", model.predict(observation), \n",
    "      \"with probibility\", np.max(model.predict_proba(observation)))"
   ]
  },
  {
   "cell_type": "markdown",
   "metadata": {},
   "source": [
    "# Multi-class classification\n",
    "In order to apply logistic regression for the cases with more than two classes, one-vs-rest, \"ovr\", can be used. "
   ]
  },
  {
   "cell_type": "code",
   "execution_count": 2,
   "metadata": {},
   "outputs": [
    {
     "name": "stdout",
     "output_type": "stream",
     "text": [
      "The new observation class is [2] with probibility 0.5545472259424323\n"
     ]
    }
   ],
   "source": [
    "# One versus Rest Logistic Regression == multi class classifier\n",
    "\n",
    "from sklearn.linear_model import LogisticRegression\n",
    "from sklearn import datasets\n",
    "from sklearn.preprocessing import StandardScaler\n",
    "import numpy as np \n",
    "\n",
    "iris = datasets.load_iris()\n",
    "X = iris.data\n",
    "y = iris.target\n",
    "\n",
    "scaler = StandardScaler()\n",
    "X_std = scaler.fit_transform(X)\n",
    "\n",
    "lr = LogisticRegression(solver='lbfgs', random_state=0, multi_class=\"ovr\")\n",
    "\n",
    "model = lr.fit(X_std, y)\n",
    "\n",
    "observation = [[0.5, 0.5, 0.5, 0.5]]\n",
    "\n",
    "print(\"The new observation class is\", model.predict(observation), \n",
    "      \"with probibility\", np.max(model.predict_proba(observation)))"
   ]
  },
  {
   "cell_type": "markdown",
   "metadata": {},
   "source": [
    "# Regularization \n",
    "In order to reduce the variance, regularization can be used. There are two ways of regularing the logistic method: l1 and l2 penalty methods. "
   ]
  },
  {
   "cell_type": "code",
   "execution_count": 4,
   "metadata": {},
   "outputs": [
    {
     "name": "stdout",
     "output_type": "stream",
     "text": [
      "The new observation class is [1] with probibility 0.9701403201280634\n"
     ]
    }
   ],
   "source": [
    "# regularized Logistic Regression \n",
    "\n",
    "from sklearn.linear_model import LogisticRegressionCV\n",
    "from sklearn import datasets\n",
    "from sklearn.preprocessing import StandardScaler\n",
    "import numpy as np \n",
    "\n",
    "iris = datasets.load_iris()\n",
    "X = iris.data\n",
    "y = iris.target\n",
    "\n",
    "scaler = StandardScaler()\n",
    "X_std = scaler.fit_transform(X)\n",
    "\n",
    "lr = LogisticRegressionCV(penalty='l2', Cs=10, cv =5, random_state=0, multi_class='auto', n_jobs=-1)\n",
    "\n",
    "model = lr.fit(X_std, y)\n",
    "\n",
    "observation = [[0.5, 0.5, 0.5, 0.5]]\n",
    "print(\"The new observation class is\", model.predict(observation), \n",
    "      \"with probibility\", np.max(model.predict_proba(observation)))"
   ]
  },
  {
   "cell_type": "code",
   "execution_count": 40,
   "metadata": {},
   "outputs": [
    {
     "name": "stdout",
     "output_type": "stream",
     "text": [
      "The new observation class is [2] with probibility 0.5545717001308477\n"
     ]
    }
   ],
   "source": [
    "# Logistic Regression for large data using Stochastic Average Gradient SAG\n",
    "\n",
    "from sklearn.linear_model import LogisticRegression\n",
    "from sklearn import datasets\n",
    "from sklearn.preprocessing import StandardScaler\n",
    "import numpy as np \n",
    "\n",
    "iris = datasets.load_iris()\n",
    "X = iris.data\n",
    "y = iris.target\n",
    "\n",
    "scaler = StandardScaler()\n",
    "X_std = scaler.fit_transform(X)\n",
    "\n",
    "lr = LogisticRegression(solver='sag', random_state=0, multi_class=\"ovr\")\n",
    "\n",
    "model = lr.fit(X_std, y)\n",
    "\n",
    "observation = [[0.5, 0.5, 0.5, 0.5]]\n",
    "print(\"The new observation class is\", model.predict(observation), \n",
    "      \"with probibility\", np.max(model.predict_proba(observation)))"
   ]
  },
  {
   "cell_type": "code",
   "execution_count": 43,
   "metadata": {},
   "outputs": [
    {
     "name": "stdout",
     "output_type": "stream",
     "text": [
      "The new observation class is [1] with probibility 0.9983927886292678\n"
     ]
    }
   ],
   "source": [
    "# Imbalaced Classes\n",
    "\n",
    "from sklearn.linear_model import LogisticRegression\n",
    "from sklearn import datasets\n",
    "from sklearn.preprocessing import StandardScaler\n",
    "import numpy as np \n",
    "\n",
    "iris = datasets.load_iris()\n",
    "X = iris.data\n",
    "y = iris.target\n",
    "\n",
    "# making imbalanced data\n",
    "X = X[40:, :]\n",
    "y = y[40:]\n",
    "\n",
    "y = np.where((y==0), 0, 1)\n",
    "\n",
    "scaler = StandardScaler()\n",
    "X_std = scaler.fit_transform(X)\n",
    "\n",
    "lr = LogisticRegression(solver='lbfgs', random_state=0, class_weight=\"balanced\")\n",
    "\n",
    "model = lr.fit(X_std, y)\n",
    "\n",
    "observation = [[0.5, 0.5, 0.5, 0.5]]\n",
    "print(\"The new observation class is\", model.predict(observation), \n",
    "      \"with probibility\", np.max(model.predict_proba(observation)))"
   ]
  }
 ],
 "metadata": {
  "kernelspec": {
   "display_name": "Python 3",
   "language": "python",
   "name": "python3"
  },
  "language_info": {
   "codemirror_mode": {
    "name": "ipython",
    "version": 3
   },
   "file_extension": ".py",
   "mimetype": "text/x-python",
   "name": "python",
   "nbconvert_exporter": "python",
   "pygments_lexer": "ipython3",
   "version": "3.7.3"
  }
 },
 "nbformat": 4,
 "nbformat_minor": 2
}
